{
 "cells": [
  {
   "cell_type": "markdown",
   "id": "367c8188",
   "metadata": {},
   "source": [
    "# Setup\n",
    "\n",
    "Install psiweb\n",
    "```console\n",
    "pip install -e ..\n",
    "```"
   ]
  },
  {
   "cell_type": "markdown",
   "id": "310098f8",
   "metadata": {},
   "source": [
    "Use the named callback signatures to decorate. All the ids are defined in yaml, so your python code only needs to focus on implementing your app's behavior."
   ]
  },
  {
   "cell_type": "code",
   "execution_count": 1,
   "id": "3cb5f675",
   "metadata": {},
   "outputs": [],
   "source": [
    "%load_ext autoreload\n",
    "%autoreload 2"
   ]
  },
  {
   "cell_type": "code",
   "execution_count": 2,
   "id": "05498fd9",
   "metadata": {},
   "outputs": [],
   "source": [
    "from psidash.psidash import OmegaConf, load_dash, load_components, get_callbacks, load_conf"
   ]
  },
  {
   "cell_type": "code",
   "execution_count": 3,
   "id": "6fcfc9bc",
   "metadata": {},
   "outputs": [
    {
     "data": {
      "text/html": [
       "\n",
       "        <iframe\n",
       "            width=\"100%\"\n",
       "            height=\"650\"\n",
       "            src=\"http://0.0.0.0:8050/\"\n",
       "            frameborder=\"0\"\n",
       "            allowfullscreen\n",
       "        ></iframe>\n",
       "        "
      ],
      "text/plain": [
       "<IPython.lib.display.IFrame at 0x7ff4a5a154e0>"
      ]
     },
     "metadata": {},
     "output_type": "display_data"
    }
   ],
   "source": [
    "conf = load_conf('demo.yaml')\n",
    "\n",
    "# app keywords, (external_style_sheets, external_scripts, etc.) are defined in yaml\n",
    "app = load_dash(conf['app'])\n",
    "\n",
    "# components and ids in yaml\n",
    "app.layout = load_components(conf['layout'])\n",
    "\n",
    "#load callback signatures into named tuple\n",
    "demo = get_callbacks(app, conf['callbacks'])\n",
    "\n",
    "@demo.compute\n",
    "def render_sum(x, op, y):\n",
    "    if op == 'plus':\n",
    "        return x + y\n",
    "    elif op == 'minus':\n",
    "        return x - y\n",
    "    elif op == 'multiply':\n",
    "        return x*y\n",
    "    elif op == 'divide':\n",
    "        return x/y\n",
    "\n",
    "if __name__ == '__main__':\n",
    "    app.run_server(host='0.0.0.0', port=8050, mode='inline', debug=True)\n",
    "\n",
    "\n",
    "server = app.server"
   ]
  },
  {
   "cell_type": "code",
   "execution_count": null,
   "id": "1bff3a41",
   "metadata": {},
   "outputs": [],
   "source": []
  }
 ],
 "metadata": {
  "kernelspec": {
   "display_name": "Python 3",
   "language": "python",
   "name": "python3"
  },
  "language_info": {
   "codemirror_mode": {
    "name": "ipython",
    "version": 3
   },
   "file_extension": ".py",
   "mimetype": "text/x-python",
   "name": "python",
   "nbconvert_exporter": "python",
   "pygments_lexer": "ipython3",
   "version": "3.7.0"
  }
 },
 "nbformat": 4,
 "nbformat_minor": 5
}
