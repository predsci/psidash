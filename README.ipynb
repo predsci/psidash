{
 "cells": [
  {
   "cell_type": "markdown",
   "id": "af4b080a",
   "metadata": {},
   "source": [
    "## psi-dash\n",
    "\n",
    "A yaml-based generator for plotly dashboards.\n",
    "\n",
    "### Motivation\n",
    "\n",
    "The standard way to build dash applications is to define the entire application in python.\n",
    "\n",
    "This quickly becomes unweidly for large applications.\n",
    "\n",
    "Psidash allows you to define most ui elements, callback signatures, and app keywords in yaml.\n",
    "\n",
    "Consider the following layout (from plotly's website):"
   ]
  },
  {
   "cell_type": "code",
   "execution_count": null,
   "id": "2f8d01f2",
   "metadata": {},
   "outputs": [],
   "source": [
    "from jupyter_dash import JupyterDash\n",
    "import dash\n",
    "import dash_core_components as dcc\n",
    "import dash_html_components as html\n",
    "\n",
    "external_stylesheets = ['https://codepen.io/chriddyp/pen/bWLwgP.css']\n",
    "\n",
    "app = JupyterDash(__name__, external_stylesheets=external_stylesheets)\n",
    "\n",
    "\n",
    "app.layout = html.Div(children=[\n",
    "    html.H1(children='Hello Dash'),\n",
    "\n",
    "    html.Div(children='''\n",
    "        Dash: A web application framework for Python.\n",
    "    '''),\n",
    "\n",
    "    dcc.Graph(\n",
    "        id='example-graph',\n",
    "        figure={'data': [{'type': 'bar',\n",
    "           'name': 'SF',\n",
    "           'x': ['Apples', 'Oranges', 'Bananas'],\n",
    "           'y': [4, 1, 2]},\n",
    "          {'type': 'bar',\n",
    "           'name': 'Montreal',\n",
    "           'x': ['Apples', 'Oranges', 'Bananas'],\n",
    "           'y': [2, 4, 5]}],\n",
    "         'layout': {'barmode': 'group'}}\n",
    "    )\n",
    "])\n",
    "\n",
    "if __name__ == '__main__':\n",
    "    app.run_server(host='0.0.0.0', port=8050, mode='inline', debug=True)"
   ]
  },
  {
   "cell_type": "markdown",
   "id": "a0efabf6",
   "metadata": {},
   "source": [
    "Here is how we could generate the same app from yaml."
   ]
  },
  {
   "cell_type": "code",
   "execution_count": null,
   "id": "8b53dee0",
   "metadata": {},
   "outputs": [],
   "source": [
    "from psidash.psidash import load_dash, load_conf, load_components\n",
    "\n",
    "conf = load_conf('examples/plotly_intro.yaml')\n",
    "app = load_dash(__name__, conf['app'])\n",
    "app.layout = load_components(conf['layout'])\n",
    "\n",
    "if __name__ == '__main__':\n",
    "    app.run_server(host='0.0.0.0', port=8050, mode='inline', debug=True)"
   ]
  },
  {
   "cell_type": "markdown",
   "id": "70833706",
   "metadata": {},
   "source": [
    "cat `examples/plotly_intro.yaml`\n",
    "\n",
    "```yaml\n",
    "dcc: dash_core_components\n",
    "html: dash_html_components\n",
    "\n",
    "external_stylesheets:\n",
    "  - https://codepen.io/chriddyp/pen/bWLwgP.css\n",
    "\n",
    "app:\n",
    "  class: jupyter_dash.JupyterDash\n",
    "  external_stylesheets: ${external_stylesheets}\n",
    "  title: psidash demo\n",
    "\n",
    "layout:\n",
    "  class: ${html}.Div\n",
    "  children:\n",
    "  - class: ${html}.H1\n",
    "    children: Hello Dash\n",
    "  - class: ${html}.Div\n",
    "    children: Dash A web application framework for Python.\n",
    "  - class: ${dcc}.Graph\n",
    "    id: example-graph\n",
    "    figure:\n",
    "      data:\n",
    "      - type: bar\n",
    "        name: SF\n",
    "        x: [\"Apples\", \"Oranges\", \"Bananas\"]\n",
    "        y: [4, 1, 2]\n",
    "      - type: bar\n",
    "        name: Montreal\n",
    "        x: [\"Apples\", \"Oranges\", \"Bananas\"]\n",
    "        y:  [2, 4, 5]\n",
    "      layout:\n",
    "        barmode: group\n",
    "```"
   ]
  },
  {
   "cell_type": "markdown",
   "id": "35ddbc60",
   "metadata": {},
   "source": [
    "```yaml\n",
    "\n",
    "```"
   ]
  }
 ],
 "metadata": {
  "jupytext": {
   "formats": "ipynb,md"
  },
  "kernelspec": {
   "display_name": "Python 3",
   "language": "python",
   "name": "python3"
  },
  "language_info": {
   "codemirror_mode": {
    "name": "ipython",
    "version": 3
   },
   "file_extension": ".py",
   "mimetype": "text/x-python",
   "name": "python",
   "nbconvert_exporter": "python",
   "pygments_lexer": "ipython3",
   "version": "3.7.0"
  }
 },
 "nbformat": 4,
 "nbformat_minor": 5
}
